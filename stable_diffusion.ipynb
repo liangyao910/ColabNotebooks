{
  "nbformat": 4,
  "nbformat_minor": 0,
  "metadata": {
    "colab": {
      "provenance": [],
      "authorship_tag": "ABX9TyNXP98wvoUuZAkGhmyGoEGH",
      "include_colab_link": true
    },
    "kernelspec": {
      "name": "python3",
      "display_name": "Python 3"
    },
    "language_info": {
      "name": "python"
    },
    "accelerator": "GPU",
    "gpuClass": "standard"
  },
  "cells": [
    {
      "cell_type": "markdown",
      "metadata": {
        "id": "view-in-github",
        "colab_type": "text"
      },
      "source": [
        "<a href=\"https://colab.research.google.com/github/liangyao910/ColabNotebooks/blob/master/stable_diffusion.ipynb\" target=\"_parent\"><img src=\"https://colab.research.google.com/assets/colab-badge.svg\" alt=\"Open In Colab\"/></a>"
      ]
    },
    {
      "cell_type": "code",
      "source": [
        "from google.colab import drive\n",
        "drive.mount('/content/drive')"
      ],
      "metadata": {
        "colab": {
          "base_uri": "https://localhost:8080/"
        },
        "id": "G-b7RGYpEm4h",
        "outputId": "3fb6e997-d298-4ae2-bef4-57cd9416df77"
      },
      "execution_count": 1,
      "outputs": [
        {
          "output_type": "stream",
          "name": "stdout",
          "text": [
            "Mounted at /content/drive\n"
          ]
        }
      ]
    },
    {
      "cell_type": "code",
      "source": [
        "%pip install torch==1.13.1+cu117 torchvision==0.14.1+cu117 torchtext==0.14.1 torchaudio==0.13.1 torchdata==0.5.1 --extra-index-url https://download.pytorch.org/whl/cu117"
      ],
      "metadata": {
        "colab": {
          "base_uri": "https://localhost:8080/"
        },
        "id": "EZpo1u-Yacno",
        "outputId": "8a81fb6d-2801-4a6a-bdcb-3d73c081fc2b"
      },
      "execution_count": 2,
      "outputs": [
        {
          "output_type": "stream",
          "name": "stdout",
          "text": [
            "Looking in indexes: https://pypi.org/simple, https://us-python.pkg.dev/colab-wheels/public/simple/, https://download.pytorch.org/whl/cu117\n",
            "Collecting torch==1.13.1+cu117\n",
            "  Downloading https://download.pytorch.org/whl/cu117/torch-1.13.1%2Bcu117-cp310-cp310-linux_x86_64.whl (1801.8 MB)\n",
            "\u001b[2K     \u001b[90m━━━━━━━━━━━━━━━━━━━━━━━━━━━━━━━━━━━━━━━━\u001b[0m \u001b[32m1.8/1.8 GB\u001b[0m \u001b[31m741.0 kB/s\u001b[0m eta \u001b[36m0:00:00\u001b[0m\n",
            "\u001b[?25hCollecting torchvision==0.14.1+cu117\n",
            "  Downloading https://download.pytorch.org/whl/cu117/torchvision-0.14.1%2Bcu117-cp310-cp310-linux_x86_64.whl (24.3 MB)\n",
            "\u001b[2K     \u001b[90m━━━━━━━━━━━━━━━━━━━━━━━━━━━━━━━━━━━━━━━━\u001b[0m \u001b[32m24.3/24.3 MB\u001b[0m \u001b[31m55.0 MB/s\u001b[0m eta \u001b[36m0:00:00\u001b[0m\n",
            "\u001b[?25hCollecting torchtext==0.14.1\n",
            "  Downloading torchtext-0.14.1-cp310-cp310-manylinux1_x86_64.whl (2.0 MB)\n",
            "\u001b[2K     \u001b[90m━━━━━━━━━━━━━━━━━━━━━━━━━━━━━━━━━━━━━━━━\u001b[0m \u001b[32m2.0/2.0 MB\u001b[0m \u001b[31m24.0 MB/s\u001b[0m eta \u001b[36m0:00:00\u001b[0m\n",
            "\u001b[?25hCollecting torchaudio==0.13.1\n",
            "  Downloading https://download.pytorch.org/whl/cu117/torchaudio-0.13.1%2Bcu117-cp310-cp310-linux_x86_64.whl (4.2 MB)\n",
            "\u001b[2K     \u001b[90m━━━━━━━━━━━━━━━━━━━━━━━━━━━━━━━━━━━━━━━━\u001b[0m \u001b[32m4.2/4.2 MB\u001b[0m \u001b[31m84.2 MB/s\u001b[0m eta \u001b[36m0:00:00\u001b[0m\n",
            "\u001b[?25hCollecting torchdata==0.5.1\n",
            "  Downloading torchdata-0.5.1-cp310-cp310-manylinux_2_17_x86_64.manylinux2014_x86_64.whl (4.6 MB)\n",
            "\u001b[2K     \u001b[90m━━━━━━━━━━━━━━━━━━━━━━━━━━━━━━━━━━━━━━━━\u001b[0m \u001b[32m4.6/4.6 MB\u001b[0m \u001b[31m92.3 MB/s\u001b[0m eta \u001b[36m0:00:00\u001b[0m\n",
            "\u001b[?25hRequirement already satisfied: typing-extensions in /usr/local/lib/python3.10/dist-packages (from torch==1.13.1+cu117) (4.5.0)\n",
            "Requirement already satisfied: numpy in /usr/local/lib/python3.10/dist-packages (from torchvision==0.14.1+cu117) (1.22.4)\n",
            "Requirement already satisfied: requests in /usr/local/lib/python3.10/dist-packages (from torchvision==0.14.1+cu117) (2.27.1)\n",
            "Requirement already satisfied: pillow!=8.3.*,>=5.3.0 in /usr/local/lib/python3.10/dist-packages (from torchvision==0.14.1+cu117) (8.4.0)\n",
            "Requirement already satisfied: tqdm in /usr/local/lib/python3.10/dist-packages (from torchtext==0.14.1) (4.65.0)\n",
            "Requirement already satisfied: urllib3>=1.25 in /usr/local/lib/python3.10/dist-packages (from torchdata==0.5.1) (1.26.15)\n",
            "Collecting portalocker>=2.0.0 (from torchdata==0.5.1)\n",
            "  Downloading portalocker-2.7.0-py2.py3-none-any.whl (15 kB)\n",
            "Requirement already satisfied: certifi>=2017.4.17 in /usr/local/lib/python3.10/dist-packages (from requests->torchvision==0.14.1+cu117) (2022.12.7)\n",
            "Requirement already satisfied: charset-normalizer~=2.0.0 in /usr/local/lib/python3.10/dist-packages (from requests->torchvision==0.14.1+cu117) (2.0.12)\n",
            "Requirement already satisfied: idna<4,>=2.5 in /usr/local/lib/python3.10/dist-packages (from requests->torchvision==0.14.1+cu117) (3.4)\n",
            "Installing collected packages: torch, portalocker, torchvision, torchtext, torchdata, torchaudio\n",
            "  Attempting uninstall: torch\n",
            "    Found existing installation: torch 2.0.0+cu118\n",
            "    Uninstalling torch-2.0.0+cu118:\n",
            "      Successfully uninstalled torch-2.0.0+cu118\n",
            "  Attempting uninstall: torchvision\n",
            "    Found existing installation: torchvision 0.15.1+cu118\n",
            "    Uninstalling torchvision-0.15.1+cu118:\n",
            "      Successfully uninstalled torchvision-0.15.1+cu118\n",
            "  Attempting uninstall: torchtext\n",
            "    Found existing installation: torchtext 0.15.1\n",
            "    Uninstalling torchtext-0.15.1:\n",
            "      Successfully uninstalled torchtext-0.15.1\n",
            "  Attempting uninstall: torchdata\n",
            "    Found existing installation: torchdata 0.6.0\n",
            "    Uninstalling torchdata-0.6.0:\n",
            "      Successfully uninstalled torchdata-0.6.0\n",
            "  Attempting uninstall: torchaudio\n",
            "    Found existing installation: torchaudio 2.0.1+cu118\n",
            "    Uninstalling torchaudio-2.0.1+cu118:\n",
            "      Successfully uninstalled torchaudio-2.0.1+cu118\n",
            "Successfully installed portalocker-2.7.0 torch-1.13.1+cu117 torchaudio-0.13.1+cu117 torchdata-0.5.1 torchtext-0.14.1 torchvision-0.14.1+cu117\n"
          ]
        }
      ]
    },
    {
      "cell_type": "code",
      "source": [
        "! pip install xformers==0.0.16rc425"
      ],
      "metadata": {
        "colab": {
          "base_uri": "https://localhost:8080/"
        },
        "id": "q5PUazWm_fnP",
        "outputId": "be44f24b-9d78-4306-c375-445e0b516979"
      },
      "execution_count": 3,
      "outputs": [
        {
          "output_type": "stream",
          "name": "stdout",
          "text": [
            "Looking in indexes: https://pypi.org/simple, https://us-python.pkg.dev/colab-wheels/public/simple/\n",
            "Collecting xformers==0.0.16rc425\n",
            "  Downloading xformers-0.0.16rc425-cp310-cp310-manylinux2014_x86_64.whl (50.9 MB)\n",
            "\u001b[2K     \u001b[90m━━━━━━━━━━━━━━━━━━━━━━━━━━━━━━━━━━━━━━━━\u001b[0m \u001b[32m50.9/50.9 MB\u001b[0m \u001b[31m8.4 MB/s\u001b[0m eta \u001b[36m0:00:00\u001b[0m\n",
            "\u001b[?25hRequirement already satisfied: numpy in /usr/local/lib/python3.10/dist-packages (from xformers==0.0.16rc425) (1.22.4)\n",
            "Collecting pyre-extensions==0.0.23 (from xformers==0.0.16rc425)\n",
            "  Downloading pyre_extensions-0.0.23-py3-none-any.whl (11 kB)\n",
            "Requirement already satisfied: torch==1.13.1 in /usr/local/lib/python3.10/dist-packages (from xformers==0.0.16rc425) (1.13.1+cu117)\n",
            "Collecting typing-inspect (from pyre-extensions==0.0.23->xformers==0.0.16rc425)\n",
            "  Downloading typing_inspect-0.8.0-py3-none-any.whl (8.7 kB)\n",
            "Requirement already satisfied: typing-extensions in /usr/local/lib/python3.10/dist-packages (from pyre-extensions==0.0.23->xformers==0.0.16rc425) (4.5.0)\n",
            "Collecting mypy-extensions>=0.3.0 (from typing-inspect->pyre-extensions==0.0.23->xformers==0.0.16rc425)\n",
            "  Downloading mypy_extensions-1.0.0-py3-none-any.whl (4.7 kB)\n",
            "Installing collected packages: mypy-extensions, typing-inspect, pyre-extensions, xformers\n",
            "Successfully installed mypy-extensions-1.0.0 pyre-extensions-0.0.23 typing-inspect-0.8.0 xformers-0.0.16rc425\n"
          ]
        }
      ]
    },
    {
      "cell_type": "code",
      "execution_count": 4,
      "metadata": {
        "colab": {
          "base_uri": "https://localhost:8080/"
        },
        "id": "L_uk_XwYr3tM",
        "outputId": "1f207794-2315-4352-c50b-3acd85da2c60"
      },
      "outputs": [
        {
          "output_type": "stream",
          "name": "stdout",
          "text": [
            "Cloning into 'stable-diffusion-webui'...\n",
            "remote: Enumerating objects: 19841, done.\u001b[K\n",
            "remote: Counting objects: 100% (628/628), done.\u001b[K\n",
            "remote: Compressing objects: 100% (255/255), done.\u001b[K\n",
            "remote: Total 19841 (delta 366), reused 537 (delta 352), pack-reused 19213\u001b[K\n",
            "Receiving objects: 100% (19841/19841), 29.45 MiB | 36.15 MiB/s, done.\n",
            "Resolving deltas: 100% (13820/13820), done.\n",
            "/content/stable-diffusion-webui\n",
            "--2023-05-13 13:09:21--  https://huggingface.co/stabilityai/stable-diffusion-2-1/resolve/main/v2-1_768-ema-pruned.safetensors\n",
            "Resolving huggingface.co (huggingface.co)... 18.67.0.34, 18.67.0.55, 18.67.0.67, ...\n",
            "Connecting to huggingface.co (huggingface.co)|18.67.0.34|:443... connected.\n",
            "HTTP request sent, awaiting response... 302 Found\n",
            "Location: https://cdn-lfs.huggingface.co/repos/b4/71/b47143176d3790e957485b59cc13cf072a4b2cbe3340d1b8fa86f53d7197236f/dcd690123cfc64383981a31d955694f6acf2072a80537fdb612c8e58ec87a8ac?response-content-disposition=attachment%3B+filename*%3DUTF-8%27%27v2-1_768-ema-pruned.safetensors%3B+filename%3D%22v2-1_768-ema-pruned.safetensors%22%3B&Expires=1684242562&Policy=eyJTdGF0ZW1lbnQiOlt7IlJlc291cmNlIjoiaHR0cHM6Ly9jZG4tbGZzLmh1Z2dpbmdmYWNlLmNvL3JlcG9zL2I0LzcxL2I0NzE0MzE3NmQzNzkwZTk1NzQ4NWI1OWNjMTNjZjA3MmE0YjJjYmUzMzQwZDFiOGZhODZmNTNkNzE5NzIzNmYvZGNkNjkwMTIzY2ZjNjQzODM5ODFhMzFkOTU1Njk0ZjZhY2YyMDcyYTgwNTM3ZmRiNjEyYzhlNThlYzg3YThhYz9yZXNwb25zZS1jb250ZW50LWRpc3Bvc2l0aW9uPSoiLCJDb25kaXRpb24iOnsiRGF0ZUxlc3NUaGFuIjp7IkFXUzpFcG9jaFRpbWUiOjE2ODQyNDI1NjJ9fX1dfQ__&Signature=RJ8RwIlNjaopvws0EXYJyl7kLXiCXnLBInEiIBDhkQUNzf4fV-MfID5vgXT3yl13UD8p5-zOqTyauUl3Ejpp1w-Xx1nkByAcC5Z90fxDrdGRIX8eIdecdYkoMc0CXWVYlgY4znn1aZybft021CCC3slQdkUIYq4OE5D-W8Ii24nUDLjUZpr-lQAovlJPdmRU1YgZf%7EwJPnZv9M-ZDET93XVrLw89ZilEb2wNpGDo0Mh1EkJXp3fVzZJp%7E2WyqaZk7uWBmcYIeCfn2zblp6Cr9NcUwHwKuPKlg8Nydmu6N9QaGrznlpTM6r%7EhYF0VBSg-Wi9FnRfOpp5YcfUfDHY3Rw__&Key-Pair-Id=KVTP0A1DKRTAX [following]\n",
            "--2023-05-13 13:09:21--  https://cdn-lfs.huggingface.co/repos/b4/71/b47143176d3790e957485b59cc13cf072a4b2cbe3340d1b8fa86f53d7197236f/dcd690123cfc64383981a31d955694f6acf2072a80537fdb612c8e58ec87a8ac?response-content-disposition=attachment%3B+filename*%3DUTF-8%27%27v2-1_768-ema-pruned.safetensors%3B+filename%3D%22v2-1_768-ema-pruned.safetensors%22%3B&Expires=1684242562&Policy=eyJTdGF0ZW1lbnQiOlt7IlJlc291cmNlIjoiaHR0cHM6Ly9jZG4tbGZzLmh1Z2dpbmdmYWNlLmNvL3JlcG9zL2I0LzcxL2I0NzE0MzE3NmQzNzkwZTk1NzQ4NWI1OWNjMTNjZjA3MmE0YjJjYmUzMzQwZDFiOGZhODZmNTNkNzE5NzIzNmYvZGNkNjkwMTIzY2ZjNjQzODM5ODFhMzFkOTU1Njk0ZjZhY2YyMDcyYTgwNTM3ZmRiNjEyYzhlNThlYzg3YThhYz9yZXNwb25zZS1jb250ZW50LWRpc3Bvc2l0aW9uPSoiLCJDb25kaXRpb24iOnsiRGF0ZUxlc3NUaGFuIjp7IkFXUzpFcG9jaFRpbWUiOjE2ODQyNDI1NjJ9fX1dfQ__&Signature=RJ8RwIlNjaopvws0EXYJyl7kLXiCXnLBInEiIBDhkQUNzf4fV-MfID5vgXT3yl13UD8p5-zOqTyauUl3Ejpp1w-Xx1nkByAcC5Z90fxDrdGRIX8eIdecdYkoMc0CXWVYlgY4znn1aZybft021CCC3slQdkUIYq4OE5D-W8Ii24nUDLjUZpr-lQAovlJPdmRU1YgZf%7EwJPnZv9M-ZDET93XVrLw89ZilEb2wNpGDo0Mh1EkJXp3fVzZJp%7E2WyqaZk7uWBmcYIeCfn2zblp6Cr9NcUwHwKuPKlg8Nydmu6N9QaGrznlpTM6r%7EhYF0VBSg-Wi9FnRfOpp5YcfUfDHY3Rw__&Key-Pair-Id=KVTP0A1DKRTAX\n",
            "Resolving cdn-lfs.huggingface.co (cdn-lfs.huggingface.co)... 108.156.83.123, 108.156.83.97, 108.156.83.35, ...\n",
            "Connecting to cdn-lfs.huggingface.co (cdn-lfs.huggingface.co)|108.156.83.123|:443... connected.\n",
            "HTTP request sent, awaiting response... 200 OK\n",
            "Length: 5214604494 (4.9G) [binary/octet-stream]\n",
            "Saving to: ‘/content/stable-diffusion-webui/models/Stable-diffusion/sd_v2.1.safetensors’\n",
            "\n",
            "/content/stable-dif 100%[===================>]   4.86G   119MB/s    in 46s     \n",
            "\n",
            "2023-05-13 13:10:07 (108 MB/s) - ‘/content/stable-diffusion-webui/models/Stable-diffusion/sd_v2.1.safetensors’ saved [5214604494/5214604494]\n",
            "\n",
            "/content/stable-diffusion-webui/models/Lora/modernDisneyLORA_modiV1.safetensors: No such file or directory\n"
          ]
        }
      ],
      "source": [
        "!git clone https://github.com/AUTOMATIC1111/stable-diffusion-webui\n",
        "%cd /content/stable-diffusion-webui\n",
        "\n",
        "!wget https://huggingface.co/stabilityai/stable-diffusion-2-1/resolve/main/v2-1_768-ema-pruned.safetensors -O /content/stable-diffusion-webui/models/Stable-diffusion/sd_v2.1.safetensors\n",
        "!wget https://civitai.com/api/download/models/8354 -O /content/stable-diffusion-webui/models/Lora/modernDisneyLORA_modiV1.safetensors"
      ]
    },
    {
      "cell_type": "markdown",
      "source": [
        "[出典:AUTOMATIC1111](https://github.com/AUTOMATIC1111/stable-diffusion-webui)"
      ],
      "metadata": {
        "id": "qFmcRcoz_2r3"
      }
    },
    {
      "cell_type": "code",
      "source": [
        "!cp /content/drive/MyDrive/civicai/civicai_checkpoint/*.* /content/stable-diffusion-webui/models/Stable-diffusion/\n",
        "!cp /content/drive/MyDrive/civicai/civicai_lora/*.* /content/stable-diffusion-webui/models/Lora/"
      ],
      "metadata": {
        "id": "W6m7fJ20Er3h",
        "colab": {
          "base_uri": "https://localhost:8080/"
        },
        "outputId": "ae477a87-8932-4c8f-e368-7eb94f63e00c"
      },
      "execution_count": 5,
      "outputs": [
        {
          "output_type": "stream",
          "name": "stdout",
          "text": [
            "cp: cannot create regular file '/content/stable-diffusion-webui/models/Lora/': Not a directory\n"
          ]
        }
      ]
    },
    {
      "cell_type": "code",
      "source": [
        "#ControlNet本体をインストール\n",
        "%cd /content/stable-diffusion-webui/extensions/\n",
        "\n",
        "!git clone https://github.com/Mikubill/sd-webui-controlnet\n",
        "\n",
        "%cd /content/stable-diffusion-webui"
      ],
      "metadata": {
        "colab": {
          "base_uri": "https://localhost:8080/"
        },
        "id": "xl6G7xpXN4aw",
        "outputId": "79b76a94-bc5b-4a81-d0a0-d1a2cae8440a"
      },
      "execution_count": 6,
      "outputs": [
        {
          "output_type": "stream",
          "name": "stdout",
          "text": [
            "/content/stable-diffusion-webui/extensions\n",
            "Cloning into 'sd-webui-controlnet'...\n",
            "remote: Enumerating objects: 6482, done.\u001b[K\n",
            "remote: Counting objects: 100% (2355/2355), done.\u001b[K\n",
            "remote: Compressing objects: 100% (260/260), done.\u001b[K\n",
            "remote: Total 6482 (delta 2148), reused 2138 (delta 2094), pack-reused 4127\u001b[K\n",
            "Receiving objects: 100% (6482/6482), 15.42 MiB | 26.06 MiB/s, done.\n",
            "Resolving deltas: 100% (3546/3546), done.\n",
            "/content/stable-diffusion-webui\n"
          ]
        }
      ]
    },
    {
      "cell_type": "code",
      "source": [
        "#ControlNetで使用するモデルをダウンロード\n",
        "%cd /content/stable-diffusion-webui/extensions/sd-webui-controlnet/models/\n",
        "\n",
        "# !wget https://huggingface.co/webui/ControlNet-modules-safetensors/resolve/main/control_canny-fp16.safetensors\n",
        "# !wget https://huggingface.co/webui/ControlNet-modules-safetensors/resolve/main/control_depth-fp16.safetensors\n",
        "# !wget https://huggingface.co/webui/ControlNet-modules-safetensors/resolve/main/control_hed-fp16.safetensors\n",
        "# !wget https://huggingface.co/webui/ControlNet-modules-safetensors/resolve/main/control_mlsd-fp16.safetensors\n",
        "# !wget https://huggingface.co/webui/ControlNet-modules-safetensors/resolve/main/control_normal-fp16.safetensors\n",
        "!wget https://huggingface.co/webui/ControlNet-modules-safetensors/resolve/main/control_openpose-fp16.safetensors\n",
        "# !wget https://huggingface.co/webui/ControlNet-modules-safetensors/resolve/main/control_scribble-fp16.safetensors\n",
        "# !wget https://huggingface.co/webui/ControlNet-modules-safetensors/resolve/main/control_seg-fp16.safetensors\n",
        "\n",
        "%cd /content/stable-diffusion-webui"
      ],
      "metadata": {
        "colab": {
          "base_uri": "https://localhost:8080/"
        },
        "id": "Xc6OsypAN-3T",
        "outputId": "e8c91314-f211-4907-d600-a43d30035cf6"
      },
      "execution_count": 7,
      "outputs": [
        {
          "output_type": "stream",
          "name": "stdout",
          "text": [
            "/content/stable-diffusion-webui/extensions/sd-webui-controlnet/models\n",
            "--2023-05-13 13:10:49--  https://huggingface.co/webui/ControlNet-modules-safetensors/resolve/main/control_openpose-fp16.safetensors\n",
            "Resolving huggingface.co (huggingface.co)... 18.67.0.55, 18.67.0.90, 18.67.0.34, ...\n",
            "Connecting to huggingface.co (huggingface.co)|18.67.0.55|:443... connected.\n",
            "HTTP request sent, awaiting response... 302 Found\n",
            "Location: https://cdn-lfs.huggingface.co/repos/fa/92/fa92d9224a56414259967038c19ee88a74c7e23cba4de1890ef401b27e699a29/337a30c5636697704370bd2413b43cebf1937abcdccc96f3525018ad5c220702?response-content-disposition=attachment%3B+filename*%3DUTF-8%27%27control_openpose-fp16.safetensors%3B+filename%3D%22control_openpose-fp16.safetensors%22%3B&Expires=1684239493&Policy=eyJTdGF0ZW1lbnQiOlt7IlJlc291cmNlIjoiaHR0cHM6Ly9jZG4tbGZzLmh1Z2dpbmdmYWNlLmNvL3JlcG9zL2ZhLzkyL2ZhOTJkOTIyNGE1NjQxNDI1OTk2NzAzOGMxOWVlODhhNzRjN2UyM2NiYTRkZTE4OTBlZjQwMWIyN2U2OTlhMjkvMzM3YTMwYzU2MzY2OTc3MDQzNzBiZDI0MTNiNDNjZWJmMTkzN2FiY2RjY2M5NmYzNTI1MDE4YWQ1YzIyMDcwMj9yZXNwb25zZS1jb250ZW50LWRpc3Bvc2l0aW9uPSoiLCJDb25kaXRpb24iOnsiRGF0ZUxlc3NUaGFuIjp7IkFXUzpFcG9jaFRpbWUiOjE2ODQyMzk0OTN9fX1dfQ__&Signature=kJEEd18QkH%7ETbZuHzsWpa8h9YnyfpRN7t82eXOgZT9Um51Ck8rujk4UUzvbPaPBS3e1JxDfYiBAZDlhhRsnOsVt6q1RtSVfJJw5oN1D82LwL3lju3HS8qYzmwfRqGpeC1Q5R89H52jg6YLMbAdVAC6uIV0Muh2EMVDsJWv4yCEsHNe3PavPK5e2lDoA4OBcQO2RY664orCZMFjTnaLdHkc-c6EBXq-FK5o5MA20FKRx0lshvlycd0PqnzFNqEffDxJvnDZk1Ar6lycRF3ISxb1V%7EZLXZKAcZaCoGpV4y4%7EqV52l0qmPsFXfm-Zs4ljuUL1ak0Lf8FhuFEq9kgdtt3w__&Key-Pair-Id=KVTP0A1DKRTAX [following]\n",
            "--2023-05-13 13:10:49--  https://cdn-lfs.huggingface.co/repos/fa/92/fa92d9224a56414259967038c19ee88a74c7e23cba4de1890ef401b27e699a29/337a30c5636697704370bd2413b43cebf1937abcdccc96f3525018ad5c220702?response-content-disposition=attachment%3B+filename*%3DUTF-8%27%27control_openpose-fp16.safetensors%3B+filename%3D%22control_openpose-fp16.safetensors%22%3B&Expires=1684239493&Policy=eyJTdGF0ZW1lbnQiOlt7IlJlc291cmNlIjoiaHR0cHM6Ly9jZG4tbGZzLmh1Z2dpbmdmYWNlLmNvL3JlcG9zL2ZhLzkyL2ZhOTJkOTIyNGE1NjQxNDI1OTk2NzAzOGMxOWVlODhhNzRjN2UyM2NiYTRkZTE4OTBlZjQwMWIyN2U2OTlhMjkvMzM3YTMwYzU2MzY2OTc3MDQzNzBiZDI0MTNiNDNjZWJmMTkzN2FiY2RjY2M5NmYzNTI1MDE4YWQ1YzIyMDcwMj9yZXNwb25zZS1jb250ZW50LWRpc3Bvc2l0aW9uPSoiLCJDb25kaXRpb24iOnsiRGF0ZUxlc3NUaGFuIjp7IkFXUzpFcG9jaFRpbWUiOjE2ODQyMzk0OTN9fX1dfQ__&Signature=kJEEd18QkH%7ETbZuHzsWpa8h9YnyfpRN7t82eXOgZT9Um51Ck8rujk4UUzvbPaPBS3e1JxDfYiBAZDlhhRsnOsVt6q1RtSVfJJw5oN1D82LwL3lju3HS8qYzmwfRqGpeC1Q5R89H52jg6YLMbAdVAC6uIV0Muh2EMVDsJWv4yCEsHNe3PavPK5e2lDoA4OBcQO2RY664orCZMFjTnaLdHkc-c6EBXq-FK5o5MA20FKRx0lshvlycd0PqnzFNqEffDxJvnDZk1Ar6lycRF3ISxb1V%7EZLXZKAcZaCoGpV4y4%7EqV52l0qmPsFXfm-Zs4ljuUL1ak0Lf8FhuFEq9kgdtt3w__&Key-Pair-Id=KVTP0A1DKRTAX\n",
            "Resolving cdn-lfs.huggingface.co (cdn-lfs.huggingface.co)... 108.156.83.97, 108.156.83.123, 108.156.83.76, ...\n",
            "Connecting to cdn-lfs.huggingface.co (cdn-lfs.huggingface.co)|108.156.83.97|:443... connected.\n",
            "HTTP request sent, awaiting response... 200 OK\n",
            "Length: 722596338 (689M) [binary/octet-stream]\n",
            "Saving to: ‘control_openpose-fp16.safetensors’\n",
            "\n",
            "control_openpose-fp 100%[===================>] 689.12M   119MB/s    in 7.0s    \n",
            "\n",
            "2023-05-13 13:10:56 (98.5 MB/s) - ‘control_openpose-fp16.safetensors’ saved [722596338/722596338]\n",
            "\n",
            "/content/stable-diffusion-webui\n"
          ]
        }
      ]
    },
    {
      "cell_type": "code",
      "source": [
        "# Web UIを実行\n",
        "!python launch.py --share --xformers --enable-insecure-extension-access"
      ],
      "metadata": {
        "id": "DmhJbc4DstSP"
      },
      "execution_count": null,
      "outputs": []
    },
    {
      "cell_type": "code",
      "source": [],
      "metadata": {
        "id": "R63EPSQPxgsz"
      },
      "execution_count": 8,
      "outputs": []
    }
  ]
}