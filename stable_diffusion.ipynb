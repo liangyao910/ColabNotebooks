{
  "nbformat": 4,
  "nbformat_minor": 0,
  "metadata": {
    "colab": {
      "provenance": [],
      "authorship_tag": "ABX9TyP+Kz2L++DorqS+0h1OnygC",
      "include_colab_link": true
    },
    "kernelspec": {
      "name": "python3",
      "display_name": "Python 3"
    },
    "language_info": {
      "name": "python"
    },
    "accelerator": "GPU",
    "gpuClass": "standard"
  },
  "cells": [
    {
      "cell_type": "markdown",
      "metadata": {
        "id": "view-in-github",
        "colab_type": "text"
      },
      "source": [
        "<a href=\"https://colab.research.google.com/github/liangyao910/ColabNotebooks/blob/master/stable_diffusion.ipynb\" target=\"_parent\"><img src=\"https://colab.research.google.com/assets/colab-badge.svg\" alt=\"Open In Colab\"/></a>"
      ]
    },
    {
      "cell_type": "code",
      "source": [
        "from google.colab import drive\n",
        "drive.mount('/content/drive')"
      ],
      "metadata": {
        "colab": {
          "base_uri": "https://localhost:8080/"
        },
        "id": "G-b7RGYpEm4h",
        "outputId": "389f2382-509c-4c87-8666-69b11fb23bf2"
      },
      "execution_count": 9,
      "outputs": [
        {
          "output_type": "stream",
          "name": "stdout",
          "text": [
            "Drive already mounted at /content/drive; to attempt to forcibly remount, call drive.mount(\"/content/drive\", force_remount=True).\n"
          ]
        }
      ]
    },
    {
      "cell_type": "code",
      "source": [
        "%pip install torch==1.13.1+cu117 torchvision==0.14.1+cu117 torchtext==0.14.1 torchaudio==0.13.1 torchdata==0.5.1 --extra-index-url https://download.pytorch.org/whl/cu117"
      ],
      "metadata": {
        "colab": {
          "base_uri": "https://localhost:8080/"
        },
        "id": "EZpo1u-Yacno",
        "outputId": "0f87e957-4ee6-4bdd-8e62-fe7be82d3b50"
      },
      "execution_count": 10,
      "outputs": [
        {
          "output_type": "stream",
          "name": "stdout",
          "text": [
            "Looking in indexes: https://pypi.org/simple, https://us-python.pkg.dev/colab-wheels/public/simple/, https://download.pytorch.org/whl/cu117\n",
            "Collecting torch==1.13.1+cu117\n",
            "  Downloading https://download.pytorch.org/whl/cu117/torch-1.13.1%2Bcu117-cp39-cp39-linux_x86_64.whl (1801.8 MB)\n",
            "\u001b[2K     \u001b[90m━━━━━━━━━━━━━━━━━━━━━━━━━━━━━━━━━━━━━━━━\u001b[0m \u001b[32m1.8/1.8 GB\u001b[0m \u001b[31m952.6 kB/s\u001b[0m eta \u001b[36m0:00:00\u001b[0m\n",
            "\u001b[?25hCollecting torchvision==0.14.1+cu117\n",
            "  Downloading https://download.pytorch.org/whl/cu117/torchvision-0.14.1%2Bcu117-cp39-cp39-linux_x86_64.whl (24.3 MB)\n",
            "\u001b[2K     \u001b[90m━━━━━━━━━━━━━━━━━━━━━━━━━━━━━━━━━━━━━━━━\u001b[0m \u001b[32m24.3/24.3 MB\u001b[0m \u001b[31m47.3 MB/s\u001b[0m eta \u001b[36m0:00:00\u001b[0m\n",
            "\u001b[?25hCollecting torchtext==0.14.1\n",
            "  Downloading torchtext-0.14.1-cp39-cp39-manylinux1_x86_64.whl (2.0 MB)\n",
            "\u001b[2K     \u001b[90m━━━━━━━━━━━━━━━━━━━━━━━━━━━━━━━━━━━━━━━━\u001b[0m \u001b[32m2.0/2.0 MB\u001b[0m \u001b[31m48.0 MB/s\u001b[0m eta \u001b[36m0:00:00\u001b[0m\n",
            "\u001b[?25hCollecting torchaudio==0.13.1\n",
            "  Downloading https://download.pytorch.org/whl/cu117/torchaudio-0.13.1%2Bcu117-cp39-cp39-linux_x86_64.whl (4.2 MB)\n",
            "\u001b[2K     \u001b[90m━━━━━━━━━━━━━━━━━━━━━━━━━━━━━━━━━━━━━━━━\u001b[0m \u001b[32m4.2/4.2 MB\u001b[0m \u001b[31m102.2 MB/s\u001b[0m eta \u001b[36m0:00:00\u001b[0m\n",
            "\u001b[?25hCollecting torchdata==0.5.1\n",
            "  Downloading torchdata-0.5.1-cp39-cp39-manylinux_2_17_x86_64.manylinux2014_x86_64.whl (4.6 MB)\n",
            "\u001b[2K     \u001b[90m━━━━━━━━━━━━━━━━━━━━━━━━━━━━━━━━━━━━━━━━\u001b[0m \u001b[32m4.6/4.6 MB\u001b[0m \u001b[31m116.4 MB/s\u001b[0m eta \u001b[36m0:00:00\u001b[0m\n",
            "\u001b[?25hRequirement already satisfied: typing-extensions in /usr/local/lib/python3.9/dist-packages (from torch==1.13.1+cu117) (4.5.0)\n",
            "Requirement already satisfied: numpy in /usr/local/lib/python3.9/dist-packages (from torchvision==0.14.1+cu117) (1.23.3)\n",
            "Requirement already satisfied: pillow!=8.3.*,>=5.3.0 in /usr/local/lib/python3.9/dist-packages (from torchvision==0.14.1+cu117) (9.4.0)\n",
            "Requirement already satisfied: requests in /usr/local/lib/python3.9/dist-packages (from torchvision==0.14.1+cu117) (2.25.1)\n",
            "Requirement already satisfied: tqdm in /usr/local/lib/python3.9/dist-packages (from torchtext==0.14.1) (4.65.0)\n",
            "Collecting portalocker>=2.0.0\n",
            "  Downloading portalocker-2.7.0-py2.py3-none-any.whl (15 kB)\n",
            "Requirement already satisfied: urllib3>=1.25 in /usr/local/lib/python3.9/dist-packages (from torchdata==0.5.1) (1.26.15)\n",
            "Requirement already satisfied: certifi>=2017.4.17 in /usr/local/lib/python3.9/dist-packages (from requests->torchvision==0.14.1+cu117) (2022.12.7)\n",
            "Requirement already satisfied: chardet<5,>=3.0.2 in /usr/local/lib/python3.9/dist-packages (from requests->torchvision==0.14.1+cu117) (4.0.0)\n",
            "Requirement already satisfied: idna<3,>=2.5 in /usr/local/lib/python3.9/dist-packages (from requests->torchvision==0.14.1+cu117) (2.10)\n",
            "Installing collected packages: torch, portalocker, torchvision, torchtext, torchdata, torchaudio\n",
            "  Attempting uninstall: torch\n",
            "    Found existing installation: torch 2.0.0\n",
            "    Uninstalling torch-2.0.0:\n",
            "      Successfully uninstalled torch-2.0.0\n",
            "  Attempting uninstall: torchvision\n",
            "    Found existing installation: torchvision 0.15.1+cu118\n",
            "    Uninstalling torchvision-0.15.1+cu118:\n",
            "      Successfully uninstalled torchvision-0.15.1+cu118\n",
            "  Attempting uninstall: torchtext\n",
            "    Found existing installation: torchtext 0.15.1\n",
            "    Uninstalling torchtext-0.15.1:\n",
            "      Successfully uninstalled torchtext-0.15.1\n",
            "  Attempting uninstall: torchdata\n",
            "    Found existing installation: torchdata 0.6.0\n",
            "    Uninstalling torchdata-0.6.0:\n",
            "      Successfully uninstalled torchdata-0.6.0\n",
            "  Attempting uninstall: torchaudio\n",
            "    Found existing installation: torchaudio 2.0.1+cu118\n",
            "    Uninstalling torchaudio-2.0.1+cu118:\n",
            "      Successfully uninstalled torchaudio-2.0.1+cu118\n",
            "Successfully installed portalocker-2.7.0 torch-1.13.1+cu117 torchaudio-0.13.1+cu117 torchdata-0.5.1 torchtext-0.14.1 torchvision-0.14.1+cu117\n"
          ]
        }
      ]
    },
    {
      "cell_type": "code",
      "execution_count": 11,
      "metadata": {
        "colab": {
          "base_uri": "https://localhost:8080/"
        },
        "id": "L_uk_XwYr3tM",
        "outputId": "a40949e6-94a0-44ce-8dcf-a332972783e8"
      },
      "outputs": [
        {
          "output_type": "stream",
          "name": "stdout",
          "text": [
            "fatal: destination path 'stable-diffusion-webui' already exists and is not an empty directory.\n",
            "/content/stable-diffusion-webui\n",
            "--2023-04-06 02:35:23--  https://huggingface.co/stabilityai/stable-diffusion-2-1/resolve/main/v2-1_768-ema-pruned.safetensors\n",
            "Resolving huggingface.co (huggingface.co)... 13.227.219.125, 13.227.219.105, 13.227.219.63, ...\n",
            "Connecting to huggingface.co (huggingface.co)|13.227.219.125|:443... connected.\n",
            "HTTP request sent, awaiting response... 302 Found\n",
            "Location: https://cdn-lfs.huggingface.co/repos/b4/71/b47143176d3790e957485b59cc13cf072a4b2cbe3340d1b8fa86f53d7197236f/dcd690123cfc64383981a31d955694f6acf2072a80537fdb612c8e58ec87a8ac?response-content-disposition=attachment%3B+filename*%3DUTF-8%27%27v2-1_768-ema-pruned.safetensors%3B+filename%3D%22v2-1_768-ema-pruned.safetensors%22%3B&Expires=1681006589&Policy=eyJTdGF0ZW1lbnQiOlt7IlJlc291cmNlIjoiaHR0cHM6Ly9jZG4tbGZzLmh1Z2dpbmdmYWNlLmNvL3JlcG9zL2I0LzcxL2I0NzE0MzE3NmQzNzkwZTk1NzQ4NWI1OWNjMTNjZjA3MmE0YjJjYmUzMzQwZDFiOGZhODZmNTNkNzE5NzIzNmYvZGNkNjkwMTIzY2ZjNjQzODM5ODFhMzFkOTU1Njk0ZjZhY2YyMDcyYTgwNTM3ZmRiNjEyYzhlNThlYzg3YThhYz9yZXNwb25zZS1jb250ZW50LWRpc3Bvc2l0aW9uPSoiLCJDb25kaXRpb24iOnsiRGF0ZUxlc3NUaGFuIjp7IkFXUzpFcG9jaFRpbWUiOjE2ODEwMDY1ODl9fX1dfQ__&Signature=p0RUtZq515ytOOv35aAX4ZUk4ZnG-M4U0Tm2fL6aqRRqJuGHANWe8G9tEb7iE9XyBvKmJ8p9gv7v1BX-z6T-YvcIZzaP9qpSAYuPk%7EX2XGdID9cY0smpW6D5Yyvj1dMyOCemXifCqCfx9eTdMGPSeZ4-EUJ6-9WrmAmbNuAwYI6yEXRMyE%7EdDGNY5JTnuvGvZ3fMCFjgJo4vZDaLkXEG3seT0qaPEEinHCXaDNPtTsWOMHbjySgi-1-83szjOCVsngCU2yvh3%7E195O0vfp41Yc4W5n%7EaO%7EnUlTI9gaPxoVEdPynS5rUmilV5yl7%7ENBv0Qo5lnTNnlzjtym5UwZTCTw__&Key-Pair-Id=KVTP0A1DKRTAX [following]\n",
            "--2023-04-06 02:35:23--  https://cdn-lfs.huggingface.co/repos/b4/71/b47143176d3790e957485b59cc13cf072a4b2cbe3340d1b8fa86f53d7197236f/dcd690123cfc64383981a31d955694f6acf2072a80537fdb612c8e58ec87a8ac?response-content-disposition=attachment%3B+filename*%3DUTF-8%27%27v2-1_768-ema-pruned.safetensors%3B+filename%3D%22v2-1_768-ema-pruned.safetensors%22%3B&Expires=1681006589&Policy=eyJTdGF0ZW1lbnQiOlt7IlJlc291cmNlIjoiaHR0cHM6Ly9jZG4tbGZzLmh1Z2dpbmdmYWNlLmNvL3JlcG9zL2I0LzcxL2I0NzE0MzE3NmQzNzkwZTk1NzQ4NWI1OWNjMTNjZjA3MmE0YjJjYmUzMzQwZDFiOGZhODZmNTNkNzE5NzIzNmYvZGNkNjkwMTIzY2ZjNjQzODM5ODFhMzFkOTU1Njk0ZjZhY2YyMDcyYTgwNTM3ZmRiNjEyYzhlNThlYzg3YThhYz9yZXNwb25zZS1jb250ZW50LWRpc3Bvc2l0aW9uPSoiLCJDb25kaXRpb24iOnsiRGF0ZUxlc3NUaGFuIjp7IkFXUzpFcG9jaFRpbWUiOjE2ODEwMDY1ODl9fX1dfQ__&Signature=p0RUtZq515ytOOv35aAX4ZUk4ZnG-M4U0Tm2fL6aqRRqJuGHANWe8G9tEb7iE9XyBvKmJ8p9gv7v1BX-z6T-YvcIZzaP9qpSAYuPk%7EX2XGdID9cY0smpW6D5Yyvj1dMyOCemXifCqCfx9eTdMGPSeZ4-EUJ6-9WrmAmbNuAwYI6yEXRMyE%7EdDGNY5JTnuvGvZ3fMCFjgJo4vZDaLkXEG3seT0qaPEEinHCXaDNPtTsWOMHbjySgi-1-83szjOCVsngCU2yvh3%7E195O0vfp41Yc4W5n%7EaO%7EnUlTI9gaPxoVEdPynS5rUmilV5yl7%7ENBv0Qo5lnTNnlzjtym5UwZTCTw__&Key-Pair-Id=KVTP0A1DKRTAX\n",
            "Resolving cdn-lfs.huggingface.co (cdn-lfs.huggingface.co)... 108.156.60.112, 108.156.60.109, 108.156.60.44, ...\n",
            "Connecting to cdn-lfs.huggingface.co (cdn-lfs.huggingface.co)|108.156.60.112|:443... connected.\n",
            "HTTP request sent, awaiting response... 200 OK\n",
            "Length: 5214604494 (4.9G) [binary/octet-stream]\n",
            "Saving to: ‘/content/stable-diffusion-webui/models/Stable-diffusion/sd_v2.1.safetensors’\n",
            "\n",
            "/content/stable-dif 100%[===================>]   4.86G   228MB/s    in 24s     \n",
            "\n",
            "2023-04-06 02:35:47 (207 MB/s) - ‘/content/stable-diffusion-webui/models/Stable-diffusion/sd_v2.1.safetensors’ saved [5214604494/5214604494]\n",
            "\n",
            "/content/stable-diffusion-webui/models/Lora/modernDisneyLORA_modiV1.safetensors: No such file or directory\n"
          ]
        }
      ],
      "source": [
        "!git clone https://github.com/AUTOMATIC1111/stable-diffusion-webui\n",
        "%cd /content/stable-diffusion-webui\n",
        "\n",
        "!wget https://huggingface.co/stabilityai/stable-diffusion-2-1/resolve/main/v2-1_768-ema-pruned.safetensors -O /content/stable-diffusion-webui/models/Stable-diffusion/sd_v2.1.safetensors\n",
        "!wget https://civitai.com/api/download/models/8354 -O /content/stable-diffusion-webui/models/Lora/modernDisneyLORA_modiV1.safetensors"
      ]
    },
    {
      "cell_type": "code",
      "source": [
        "!cp /content/drive/MyDrive/civicai/civicai_checkpoint/*.* /content/stable-diffusion-webui/models/Stable-diffusion/\n",
        "!cp /content/drive/MyDrive/civicai/civicai_lora/*.* /content/stable-diffusion-webui/models/Lora/"
      ],
      "metadata": {
        "id": "W6m7fJ20Er3h",
        "colab": {
          "base_uri": "https://localhost:8080/"
        },
        "outputId": "9cc78bd2-4a32-46b7-cd64-48131d498d72"
      },
      "execution_count": 12,
      "outputs": [
        {
          "output_type": "stream",
          "name": "stdout",
          "text": [
            "cp: cannot create regular file '/content/stable-diffusion-webui/models/Lora/': Not a directory\n"
          ]
        }
      ]
    },
    {
      "cell_type": "code",
      "source": [
        "# Web UIを実行\n",
        "!python launch.py --share --xformers --enable-insecure-extension-access"
      ],
      "metadata": {
        "id": "DmhJbc4DstSP"
      },
      "execution_count": null,
      "outputs": []
    },
    {
      "cell_type": "code",
      "source": [],
      "metadata": {
        "id": "R63EPSQPxgsz"
      },
      "execution_count": 13,
      "outputs": []
    }
  ]
}